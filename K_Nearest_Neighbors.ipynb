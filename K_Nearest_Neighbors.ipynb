{
  "nbformat": 4,
  "nbformat_minor": 0,
  "metadata": {
    "colab": {
      "name": "K-Nearest Neighbors.ipynb",
      "provenance": [],
      "collapsed_sections": [],
      "authorship_tag": "ABX9TyOsqsvKUrdTcw9b4KpctJay",
      "include_colab_link": true
    },
    "kernelspec": {
      "name": "python3",
      "display_name": "Python 3"
    },
    "language_info": {
      "name": "python"
    }
  },
  "cells": [
    {
      "cell_type": "markdown",
      "metadata": {
        "id": "view-in-github",
        "colab_type": "text"
      },
      "source": [
        "<a href=\"https://colab.research.google.com/github/msmsd778/k-nearest-neighbors/blob/main/K_Nearest_Neighbors.ipynb\" target=\"_parent\"><img src=\"https://colab.research.google.com/assets/colab-badge.svg\" alt=\"Open In Colab\"/></a>"
      ]
    },
    {
      "cell_type": "code",
      "metadata": {
        "colab": {
          "base_uri": "https://localhost:8080/"
        },
        "id": "oRUENuB-aNYI",
        "outputId": "d8ab405e-da2c-4fdb-a13d-46e2a8fb48ac"
      },
      "source": [
        "!pip install scikit-learn==0.23.1"
      ],
      "execution_count": 2,
      "outputs": [
        {
          "output_type": "stream",
          "text": [
            "Collecting scikit-learn==0.23.1\n",
            "  Downloading scikit_learn-0.23.1-cp37-cp37m-manylinux1_x86_64.whl (6.8 MB)\n",
            "\u001b[K     |████████████████████████████████| 6.8 MB 18.8 MB/s \n",
            "\u001b[?25hRequirement already satisfied: scipy>=0.19.1 in /usr/local/lib/python3.7/dist-packages (from scikit-learn==0.23.1) (1.4.1)\n",
            "Collecting threadpoolctl>=2.0.0\n",
            "  Downloading threadpoolctl-2.2.0-py3-none-any.whl (12 kB)\n",
            "Requirement already satisfied: numpy>=1.13.3 in /usr/local/lib/python3.7/dist-packages (from scikit-learn==0.23.1) (1.19.5)\n",
            "Requirement already satisfied: joblib>=0.11 in /usr/local/lib/python3.7/dist-packages (from scikit-learn==0.23.1) (1.0.1)\n",
            "Installing collected packages: threadpoolctl, scikit-learn\n",
            "  Attempting uninstall: scikit-learn\n",
            "    Found existing installation: scikit-learn 0.22.2.post1\n",
            "    Uninstalling scikit-learn-0.22.2.post1:\n",
            "      Successfully uninstalled scikit-learn-0.22.2.post1\n",
            "Successfully installed scikit-learn-0.23.1 threadpoolctl-2.2.0\n"
          ],
          "name": "stdout"
        }
      ]
    },
    {
      "cell_type": "code",
      "metadata": {
        "id": "DB5gRcC-advP"
      },
      "source": [
        "import numpy as np\n",
        "import matplotlib.pyplot as plt\n",
        "import pandas as pd\n",
        "from sklearn import preprocessing\n",
        "%matplotlib inline"
      ],
      "execution_count": 3,
      "outputs": []
    },
    {
      "cell_type": "code",
      "metadata": {
        "colab": {
          "base_uri": "https://localhost:8080/"
        },
        "id": "vMqRCg9Va1bm",
        "outputId": "a6854234-46ce-4d94-97e8-e3b1701a059b"
      },
      "source": [
        "!wget -O teleCust1000t.csv https://cf-courses-data.s3.us.cloud-object-storage.appdomain.cloud/IBMDeveloperSkillsNetwork-ML0101EN-SkillsNetwork/labs/Module%203/data/teleCust1000t.csv"
      ],
      "execution_count": 5,
      "outputs": [
        {
          "output_type": "stream",
          "text": [
            "--2021-08-05 09:27:00--  https://cf-courses-data.s3.us.cloud-object-storage.appdomain.cloud/IBMDeveloperSkillsNetwork-ML0101EN-SkillsNetwork/labs/Module%203/data/teleCust1000t.csv\n",
            "Resolving cf-courses-data.s3.us.cloud-object-storage.appdomain.cloud (cf-courses-data.s3.us.cloud-object-storage.appdomain.cloud)... 169.63.118.104\n",
            "Connecting to cf-courses-data.s3.us.cloud-object-storage.appdomain.cloud (cf-courses-data.s3.us.cloud-object-storage.appdomain.cloud)|169.63.118.104|:443... connected.\n",
            "HTTP request sent, awaiting response... 200 OK\n",
            "Length: 36047 (35K) [text/csv]\n",
            "Saving to: ‘teleCust1000t.csv’\n",
            "\n",
            "\rteleCust1000t.csv     0%[                    ]       0  --.-KB/s               \rteleCust1000t.csv   100%[===================>]  35.20K  --.-KB/s    in 0.001s  \n",
            "\n",
            "2021-08-05 09:27:00 (30.0 MB/s) - ‘teleCust1000t.csv’ saved [36047/36047]\n",
            "\n"
          ],
          "name": "stdout"
        }
      ]
    },
    {
      "cell_type": "markdown",
      "metadata": {
        "id": "31ovj85Fa8S2"
      },
      "source": [
        "# Load Data From CSV File"
      ]
    },
    {
      "cell_type": "code",
      "metadata": {
        "colab": {
          "base_uri": "https://localhost:8080/",
          "height": 357
        },
        "id": "GYC2L6LZa_g-",
        "outputId": "0ab1b397-6359-40f2-ba4d-5cf3e660cbf6"
      },
      "source": [
        "df = pd.read_csv(\"teleCust1000t.csv\")\n",
        "df.head(10)"
      ],
      "execution_count": 6,
      "outputs": [
        {
          "output_type": "execute_result",
          "data": {
            "text/html": [
              "<div>\n",
              "<style scoped>\n",
              "    .dataframe tbody tr th:only-of-type {\n",
              "        vertical-align: middle;\n",
              "    }\n",
              "\n",
              "    .dataframe tbody tr th {\n",
              "        vertical-align: top;\n",
              "    }\n",
              "\n",
              "    .dataframe thead th {\n",
              "        text-align: right;\n",
              "    }\n",
              "</style>\n",
              "<table border=\"1\" class=\"dataframe\">\n",
              "  <thead>\n",
              "    <tr style=\"text-align: right;\">\n",
              "      <th></th>\n",
              "      <th>region</th>\n",
              "      <th>tenure</th>\n",
              "      <th>age</th>\n",
              "      <th>marital</th>\n",
              "      <th>address</th>\n",
              "      <th>income</th>\n",
              "      <th>ed</th>\n",
              "      <th>employ</th>\n",
              "      <th>retire</th>\n",
              "      <th>gender</th>\n",
              "      <th>reside</th>\n",
              "      <th>custcat</th>\n",
              "    </tr>\n",
              "  </thead>\n",
              "  <tbody>\n",
              "    <tr>\n",
              "      <th>0</th>\n",
              "      <td>2</td>\n",
              "      <td>13</td>\n",
              "      <td>44</td>\n",
              "      <td>1</td>\n",
              "      <td>9</td>\n",
              "      <td>64.0</td>\n",
              "      <td>4</td>\n",
              "      <td>5</td>\n",
              "      <td>0.0</td>\n",
              "      <td>0</td>\n",
              "      <td>2</td>\n",
              "      <td>1</td>\n",
              "    </tr>\n",
              "    <tr>\n",
              "      <th>1</th>\n",
              "      <td>3</td>\n",
              "      <td>11</td>\n",
              "      <td>33</td>\n",
              "      <td>1</td>\n",
              "      <td>7</td>\n",
              "      <td>136.0</td>\n",
              "      <td>5</td>\n",
              "      <td>5</td>\n",
              "      <td>0.0</td>\n",
              "      <td>0</td>\n",
              "      <td>6</td>\n",
              "      <td>4</td>\n",
              "    </tr>\n",
              "    <tr>\n",
              "      <th>2</th>\n",
              "      <td>3</td>\n",
              "      <td>68</td>\n",
              "      <td>52</td>\n",
              "      <td>1</td>\n",
              "      <td>24</td>\n",
              "      <td>116.0</td>\n",
              "      <td>1</td>\n",
              "      <td>29</td>\n",
              "      <td>0.0</td>\n",
              "      <td>1</td>\n",
              "      <td>2</td>\n",
              "      <td>3</td>\n",
              "    </tr>\n",
              "    <tr>\n",
              "      <th>3</th>\n",
              "      <td>2</td>\n",
              "      <td>33</td>\n",
              "      <td>33</td>\n",
              "      <td>0</td>\n",
              "      <td>12</td>\n",
              "      <td>33.0</td>\n",
              "      <td>2</td>\n",
              "      <td>0</td>\n",
              "      <td>0.0</td>\n",
              "      <td>1</td>\n",
              "      <td>1</td>\n",
              "      <td>1</td>\n",
              "    </tr>\n",
              "    <tr>\n",
              "      <th>4</th>\n",
              "      <td>2</td>\n",
              "      <td>23</td>\n",
              "      <td>30</td>\n",
              "      <td>1</td>\n",
              "      <td>9</td>\n",
              "      <td>30.0</td>\n",
              "      <td>1</td>\n",
              "      <td>2</td>\n",
              "      <td>0.0</td>\n",
              "      <td>0</td>\n",
              "      <td>4</td>\n",
              "      <td>3</td>\n",
              "    </tr>\n",
              "    <tr>\n",
              "      <th>5</th>\n",
              "      <td>2</td>\n",
              "      <td>41</td>\n",
              "      <td>39</td>\n",
              "      <td>0</td>\n",
              "      <td>17</td>\n",
              "      <td>78.0</td>\n",
              "      <td>2</td>\n",
              "      <td>16</td>\n",
              "      <td>0.0</td>\n",
              "      <td>1</td>\n",
              "      <td>1</td>\n",
              "      <td>3</td>\n",
              "    </tr>\n",
              "    <tr>\n",
              "      <th>6</th>\n",
              "      <td>3</td>\n",
              "      <td>45</td>\n",
              "      <td>22</td>\n",
              "      <td>1</td>\n",
              "      <td>2</td>\n",
              "      <td>19.0</td>\n",
              "      <td>2</td>\n",
              "      <td>4</td>\n",
              "      <td>0.0</td>\n",
              "      <td>1</td>\n",
              "      <td>5</td>\n",
              "      <td>2</td>\n",
              "    </tr>\n",
              "    <tr>\n",
              "      <th>7</th>\n",
              "      <td>2</td>\n",
              "      <td>38</td>\n",
              "      <td>35</td>\n",
              "      <td>0</td>\n",
              "      <td>5</td>\n",
              "      <td>76.0</td>\n",
              "      <td>2</td>\n",
              "      <td>10</td>\n",
              "      <td>0.0</td>\n",
              "      <td>0</td>\n",
              "      <td>3</td>\n",
              "      <td>4</td>\n",
              "    </tr>\n",
              "    <tr>\n",
              "      <th>8</th>\n",
              "      <td>3</td>\n",
              "      <td>45</td>\n",
              "      <td>59</td>\n",
              "      <td>1</td>\n",
              "      <td>7</td>\n",
              "      <td>166.0</td>\n",
              "      <td>4</td>\n",
              "      <td>31</td>\n",
              "      <td>0.0</td>\n",
              "      <td>0</td>\n",
              "      <td>5</td>\n",
              "      <td>3</td>\n",
              "    </tr>\n",
              "    <tr>\n",
              "      <th>9</th>\n",
              "      <td>1</td>\n",
              "      <td>68</td>\n",
              "      <td>41</td>\n",
              "      <td>1</td>\n",
              "      <td>21</td>\n",
              "      <td>72.0</td>\n",
              "      <td>1</td>\n",
              "      <td>22</td>\n",
              "      <td>0.0</td>\n",
              "      <td>0</td>\n",
              "      <td>3</td>\n",
              "      <td>2</td>\n",
              "    </tr>\n",
              "  </tbody>\n",
              "</table>\n",
              "</div>"
            ],
            "text/plain": [
              "   region  tenure  age  marital  ...  retire  gender  reside  custcat\n",
              "0       2      13   44        1  ...     0.0       0       2        1\n",
              "1       3      11   33        1  ...     0.0       0       6        4\n",
              "2       3      68   52        1  ...     0.0       1       2        3\n",
              "3       2      33   33        0  ...     0.0       1       1        1\n",
              "4       2      23   30        1  ...     0.0       0       4        3\n",
              "5       2      41   39        0  ...     0.0       1       1        3\n",
              "6       3      45   22        1  ...     0.0       1       5        2\n",
              "7       2      38   35        0  ...     0.0       0       3        4\n",
              "8       3      45   59        1  ...     0.0       0       5        3\n",
              "9       1      68   41        1  ...     0.0       0       3        2\n",
              "\n",
              "[10 rows x 12 columns]"
            ]
          },
          "metadata": {
            "tags": []
          },
          "execution_count": 6
        }
      ]
    },
    {
      "cell_type": "markdown",
      "metadata": {
        "id": "ZEm3yHBpbLeO"
      },
      "source": [
        "# Data Visualization and Analysis"
      ]
    },
    {
      "cell_type": "code",
      "metadata": {
        "colab": {
          "base_uri": "https://localhost:8080/"
        },
        "id": "M2GmxrCbbMmn",
        "outputId": "f4c1602c-18e6-4885-c7e4-f5eae52677e3"
      },
      "source": [
        "df['custcat'].value_counts()"
      ],
      "execution_count": 7,
      "outputs": [
        {
          "output_type": "execute_result",
          "data": {
            "text/plain": [
              "3    281\n",
              "1    266\n",
              "4    236\n",
              "2    217\n",
              "Name: custcat, dtype: int64"
            ]
          },
          "metadata": {
            "tags": []
          },
          "execution_count": 7
        }
      ]
    },
    {
      "cell_type": "code",
      "metadata": {
        "colab": {
          "base_uri": "https://localhost:8080/",
          "height": 314
        },
        "id": "23inAb6UofEv",
        "outputId": "32ecd2d2-48ed-485a-c11c-bbff35953437"
      },
      "source": [
        "df.hist(column='income', bins=50)"
      ],
      "execution_count": 12,
      "outputs": [
        {
          "output_type": "execute_result",
          "data": {
            "text/plain": [
              "array([[<matplotlib.axes._subplots.AxesSubplot object at 0x7f4165e2ddd0>]],\n",
              "      dtype=object)"
            ]
          },
          "metadata": {
            "tags": []
          },
          "execution_count": 12
        },
        {
          "output_type": "display_data",
          "data": {
            "image/png": "[encoded data removed]",
            "text/plain": [
              "<Figure size 432x288 with 1 Axes>"
            ]
          },
          "metadata": {
            "tags": [],
            "needs_background": "light"
          }
        }
      ]
    },
    {
      "cell_type": "code",
      "metadata": {
        "colab": {
          "base_uri": "https://localhost:8080/"
        },
        "id": "BeRccxNpqIP4",
        "outputId": "93e3a5ee-8ce3-4a82-b130-2ee0cb38fee4"
      },
      "source": [
        "df.columns"
      ],
      "execution_count": 13,
      "outputs": [
        {
          "output_type": "execute_result",
          "data": {
            "text/plain": [
              "Index(['region', 'tenure', 'age', 'marital', 'address', 'income', 'ed',\n",
              "       'employ', 'retire', 'gender', 'reside', 'custcat'],\n",
              "      dtype='object')"
            ]
          },
          "metadata": {
            "tags": []
          },
          "execution_count": 13
        }
      ]
    },
    {
      "cell_type": "code",
      "metadata": {
        "colab": {
          "base_uri": "https://localhost:8080/"
        },
        "id": "2_PYQfGAbgm_",
        "outputId": "3c331b45-dd50-4c18-abcc-4971b258206e"
      },
      "source": [
        "x = df[['region', 'tenure','age', 'marital', 'address', 'income', 'ed', 'employ','retire', 'gender', 'reside']].values\n",
        "x[0:5]"
      ],
      "execution_count": 15,
      "outputs": [
        {
          "output_type": "execute_result",
          "data": {
            "text/plain": [
              "array([[  2.,  13.,  44.,   1.,   9.,  64.,   4.,   5.,   0.,   0.,   2.],\n",
              "       [  3.,  11.,  33.,   1.,   7., 136.,   5.,   5.,   0.,   0.,   6.],\n",
              "       [  3.,  68.,  52.,   1.,  24., 116.,   1.,  29.,   0.,   1.,   2.],\n",
              "       [  2.,  33.,  33.,   0.,  12.,  33.,   2.,   0.,   0.,   1.,   1.],\n",
              "       [  2.,  23.,  30.,   1.,   9.,  30.,   1.,   2.,   0.,   0.,   4.]])"
            ]
          },
          "metadata": {
            "tags": []
          },
          "execution_count": 15
        }
      ]
    },
    {
      "cell_type": "code",
      "metadata": {
        "colab": {
          "base_uri": "https://localhost:8080/"
        },
        "id": "2NXB2ESLb4ym",
        "outputId": "39a61ea5-b2e5-46b4-8c8d-87b653918a32"
      },
      "source": [
        "y = df['custcat'].values\n",
        "y[0:5]"
      ],
      "execution_count": 16,
      "outputs": [
        {
          "output_type": "execute_result",
          "data": {
            "text/plain": [
              "array([1, 4, 3, 1, 3])"
            ]
          },
          "metadata": {
            "tags": []
          },
          "execution_count": 16
        }
      ]
    },
    {
      "cell_type": "markdown",
      "metadata": {
        "id": "Z-iFqfs6cJzv"
      },
      "source": [
        "# Normalize Data"
      ]
    },
    {
      "cell_type": "code",
      "metadata": {
        "colab": {
          "base_uri": "https://localhost:8080/"
        },
        "id": "aJFF5pbmcKe-",
        "outputId": "f16ad727-f689-4a3e-a929-c3636e1d193d"
      },
      "source": [
        "x = preprocessing.StandardScaler().fit(x).transform(x.astype(float))\n",
        "x[0:5]"
      ],
      "execution_count": 17,
      "outputs": [
        {
          "output_type": "execute_result",
          "data": {
            "text/plain": [
              "array([[-0.02696767, -1.055125  ,  0.18450456,  1.0100505 , -0.25303431,\n",
              "        -0.12650641,  1.0877526 , -0.5941226 , -0.22207644, -1.03459817,\n",
              "        -0.23065004],\n",
              "       [ 1.19883553, -1.14880563, -0.69181243,  1.0100505 , -0.4514148 ,\n",
              "         0.54644972,  1.9062271 , -0.5941226 , -0.22207644, -1.03459817,\n",
              "         2.55666158],\n",
              "       [ 1.19883553,  1.52109247,  0.82182601,  1.0100505 ,  1.23481934,\n",
              "         0.35951747, -1.36767088,  1.78752803, -0.22207644,  0.96655883,\n",
              "        -0.23065004],\n",
              "       [-0.02696767, -0.11831864, -0.69181243, -0.9900495 ,  0.04453642,\n",
              "        -0.41625141, -0.54919639, -1.09029981, -0.22207644,  0.96655883,\n",
              "        -0.92747794],\n",
              "       [-0.02696767, -0.58672182, -0.93080797,  1.0100505 , -0.25303431,\n",
              "        -0.44429125, -1.36767088, -0.89182893, -0.22207644, -1.03459817,\n",
              "         1.16300577]])"
            ]
          },
          "metadata": {
            "tags": []
          },
          "execution_count": 17
        }
      ]
    },
    {
      "cell_type": "markdown",
      "metadata": {
        "id": "0rCF5omVq1V1"
      },
      "source": [
        "# Train Test Split"
      ]
    },
    {
      "cell_type": "code",
      "metadata": {
        "colab": {
          "base_uri": "https://localhost:8080/"
        },
        "id": "_EkWJ1T-q2WW",
        "outputId": "59a4d8f7-d1fe-4adf-afcc-9a5cde467b8b"
      },
      "source": [
        "from sklearn.model_selection import train_test_split\n",
        "x_train, x_test, y_train, y_test = train_test_split(x, y, test_size=0.2, random_state=4)\n",
        "print('Train set:', x_train.shape, y_train.shape)\n",
        "print('Test set:' , x_test.shape, y_test.shape)"
      ],
      "execution_count": 25,
      "outputs": [
        {
          "output_type": "stream",
          "text": [
            "Train set: (800, 11) (800,)\n",
            "Test set: (200, 11) (200,)\n"
          ],
          "name": "stdout"
        }
      ]
    },
    {
      "cell_type": "markdown",
      "metadata": {
        "id": "gxb88lTDuAgP"
      },
      "source": [
        "# Classification\n",
        "<br>\n",
        "\n",
        "# K nearest neighbor (KNN)"
      ]
    },
    {
      "cell_type": "code",
      "metadata": {
        "id": "dNPt3i7OumUM"
      },
      "source": [
        "from sklearn.neighbors import KNeighborsClassifier"
      ],
      "execution_count": 26,
      "outputs": []
    },
    {
      "cell_type": "markdown",
      "metadata": {
        "id": "yAvIVzEautqV"
      },
      "source": [
        "# Training"
      ]
    },
    {
      "cell_type": "code",
      "metadata": {
        "colab": {
          "base_uri": "https://localhost:8080/"
        },
        "id": "9NH6pm41uvTO",
        "outputId": "18b9a900-0bb7-467d-8ec0-a2fa659c65a4"
      },
      "source": [
        "k = 4\n",
        "\n",
        "neigh = KNeighborsClassifier(n_neighbors = k).fit(x_train, y_train)\n",
        "neigh"
      ],
      "execution_count": 28,
      "outputs": [
        {
          "output_type": "execute_result",
          "data": {
            "text/plain": [
              "KNeighborsClassifier(n_neighbors=4)"
            ]
          },
          "metadata": {
            "tags": []
          },
          "execution_count": 28
        }
      ]
    },
    {
      "cell_type": "markdown",
      "metadata": {
        "id": "myQ02JvTvDa_"
      },
      "source": [
        "# Predicting"
      ]
    },
    {
      "cell_type": "code",
      "metadata": {
        "colab": {
          "base_uri": "https://localhost:8080/"
        },
        "id": "fXWZmaiSvJfm",
        "outputId": "f5b0a6cc-3f4c-49f2-a877-499d868da536"
      },
      "source": [
        "yhat = neigh.predict(x_test)\n",
        "yhat[0:5]"
      ],
      "execution_count": 31,
      "outputs": [
        {
          "output_type": "execute_result",
          "data": {
            "text/plain": [
              "array([1, 1, 3, 2, 4])"
            ]
          },
          "metadata": {
            "tags": []
          },
          "execution_count": 31
        }
      ]
    },
    {
      "cell_type": "markdown",
      "metadata": {
        "id": "tMtcLO_Xvfbm"
      },
      "source": [
        "# Accuracy evaluation"
      ]
    },
    {
      "cell_type": "code",
      "metadata": {
        "colab": {
          "base_uri": "https://localhost:8080/"
        },
        "id": "Zu5MzrfQvgt3",
        "outputId": "7882e805-21e0-428d-d00e-d1cc4f3b1bca"
      },
      "source": [
        "from sklearn import metrics\n",
        "print('Train set accuracy: ', metrics.accuracy_score(y_train, neigh.predict(x_train)))\n",
        "print('Test set accuracy: ', metrics.accuracy_score(y_test, yhat))"
      ],
      "execution_count": 32,
      "outputs": [
        {
          "output_type": "stream",
          "text": [
            "Train set accuracy:  0.5475\n",
            "Test set accuracy:  0.32\n"
          ],
          "name": "stdout"
        }
      ]
    },
    {
      "cell_type": "markdown",
      "metadata": {
        "id": "jxb-ANk7w7e_"
      },
      "source": [
        "This time with k=6"
      ]
    },
    {
      "cell_type": "code",
      "metadata": {
        "colab": {
          "base_uri": "https://localhost:8080/"
        },
        "id": "b62evL4kw97-",
        "outputId": "31a5fdd4-a09d-419a-fb70-58a1f6d9bfc3"
      },
      "source": [
        "k = 6\n",
        "neigh = KNeighborsClassifier(n_neighbors = k).fit(x_train, y_train)\n",
        "yhat = neigh.predict(x_test)\n",
        "print('Train set accuracy: ', metrics.accuracy_score(y_train, neigh.predict(x_train)))\n",
        "print('Test set accuracy: ', metrics.accuracy_score(y_test, yhat))"
      ],
      "execution_count": 34,
      "outputs": [
        {
          "output_type": "stream",
          "text": [
            "Train set accuracy:  0.51625\n",
            "Test set accuracy:  0.31\n"
          ],
          "name": "stdout"
        }
      ]
    },
    {
      "cell_type": "markdown",
      "metadata": {
        "id": "2eDH1VvzyMVA"
      },
      "source": [
        "## What is the right K?"
      ]
    },
    {
      "cell_type": "code",
      "metadata": {
        "colab": {
          "base_uri": "https://localhost:8080/"
        },
        "id": "PZdBPo1gyRoH",
        "outputId": "6083a5bc-bd19-420f-c4d7-d44646e15a32"
      },
      "source": [
        "Ks = 10\n",
        "mean_acc = np.zeros((Ks-1))\n",
        "std_acc = np.zeros((Ks-1))\n",
        "\n",
        "for n in range (1,Ks):\n",
        "  neigh = KNeighborsClassifier(n_neighbors = n).fit(x_train, y_train)\n",
        "  yhat = neigh.predict(x_test)\n",
        "  mean_acc[n-1] = metrics.accuracy_score(y_test, yhat)\n",
        "  std_acc[n-1] = np.std(yhat == y_test)/np.sqrt(yhat.shape[0])\n",
        "\n",
        "mean_acc"
      ],
      "execution_count": 38,
      "outputs": [
        {
          "output_type": "execute_result",
          "data": {
            "text/plain": [
              "array([0.3  , 0.29 , 0.315, 0.32 , 0.315, 0.31 , 0.335, 0.325, 0.34 ])"
            ]
          },
          "metadata": {
            "tags": []
          },
          "execution_count": 38
        }
      ]
    },
    {
      "cell_type": "markdown",
      "metadata": {
        "id": "oToqgF5R3zBD"
      },
      "source": [
        "### Plot the model accuracy for a different number of neighbors."
      ]
    },
    {
      "cell_type": "code",
      "metadata": {
        "colab": {
          "base_uri": "https://localhost:8080/",
          "height": 297
        },
        "id": "A5K194Xk32EB",
        "outputId": "06592e4a-0808-4e69-9806-3beb51a3c8ec"
      },
      "source": [
        "plt.plot(range(1,Ks), mean_acc, 'g')\n",
        "plt.fill_between(range(1,Ks), mean_acc - 1 * std_acc, mean_acc + 1 * std_acc, alpha=0.10)\n",
        "plt.fill_between(range(1,Ks), mean_acc - 3 * std_acc, mean_acc + 3 * std_acc, alpha=0.10, color=\"green\")\n",
        "plt.legend(('Accuracy ', '+/- 1xstd', '+/- 3xstd'))\n",
        "plt.ylabel('Accuracy')\n",
        "plt.xlabel('Number of Neighbors (K)')\n",
        "plt.tight_layout()\n",
        "plt.show()"
      ],
      "execution_count": 39,
      "outputs": [
        {
          "output_type": "display_data",
          "data": {
            "image/png": "[encoded data removed]",
            "text/plain": [
              "<Figure size 432x288 with 1 Axes>"
            ]
          },
          "metadata": {
            "tags": [],
            "needs_background": "light"
          }
        }
      ]
    },
    {
      "cell_type": "code",
      "metadata": {
        "colab": {
          "base_uri": "https://localhost:8080/"
        },
        "id": "_esiO5SV5SRU",
        "outputId": "4b7b0a40-5d7e-4fc9-cbe4-706ac1e3cfa6"
      },
      "source": [
        "print(\"The best accuracy was with\", mean_acc.max(), \"with k = \", mean_acc.argmax() + 1)"
      ],
      "execution_count": 42,
      "outputs": [
        {
          "output_type": "stream",
          "text": [
            "The best accuracy was with 0.34 with k =  9\n"
          ],
          "name": "stdout"
        }
      ]
    }
  ]
}